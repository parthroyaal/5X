{
 "cells": [
  {
   "cell_type": "code",
   "execution_count": 6,
   "metadata": {},
   "outputs": [],
   "source": [
    "import csv\n",
    "import json\n",
    "from datetime import datetime\n",
    "\n",
    "# Function to convert Unix timestamp to milliseconds since epoch\n",
    "def unix_to_millis(unix_time):\n",
    "    return unix_time * 1000\n",
    "\n",
    "# Read data from the CSV file and convert it\n",
    "def convert_csv_to_json(csv_filename, json_filename):\n",
    "    data = []\n",
    "    \n",
    "    with open(csv_filename, mode='r') as file:\n",
    "        reader = csv.DictReader(file)\n",
    "        for row in reader:\n",
    "            time_millis = unix_to_millis(int(row['time']))\n",
    "            record = {\n",
    "                'time': time_millis,\n",
    "                'open': float(row['open']),\n",
    "                'high': float(row['high']),\n",
    "                'low': float(row['low']),\n",
    "                'close': float(row['close']),\n",
    "                'volume': float(row['volume'])\n",
    "            }\n",
    "            data.append(record)\n",
    "    \n",
    "    # Save the data to a JSON file\n",
    "    with open(json_filename, mode='w') as file:\n",
    "        json.dump(data, file, indent=4)\n",
    "\n",
    "# Specify filenames\n",
    "csv_filename = 'data.csv'\n",
    "json_filename = 'data.json'\n",
    "\n",
    "# Perform the conversion\n",
    "convert_csv_to_json(csv_filename, json_filename)\n"
   ]
  },
  {
   "cell_type": "code",
   "execution_count": null,
   "metadata": {},
   "outputs": [],
   "source": []
  }
 ],
 "metadata": {
  "kernelspec": {
   "display_name": "api",
   "language": "python",
   "name": "python3"
  },
  "language_info": {
   "codemirror_mode": {
    "name": "ipython",
    "version": 3
   },
   "file_extension": ".py",
   "mimetype": "text/x-python",
   "name": "python",
   "nbconvert_exporter": "python",
   "pygments_lexer": "ipython3",
   "version": "3.10.12"
  }
 },
 "nbformat": 4,
 "nbformat_minor": 2
}
