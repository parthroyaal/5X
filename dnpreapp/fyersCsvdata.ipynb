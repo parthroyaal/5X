{
 "cells": [
  {
   "cell_type": "code",
   "execution_count": 1,
   "metadata": {},
   "outputs": [],
   "source": [
    "\n",
    "# !echo -e \"yfinance\\nsmartapi-python\\npyotp\\nlogzero\\nstreamlit\\nFlask\\ndatetime\\npandas\\nnumpy\\nfyers-apiv3\\nwebsockets\\nwebsocket-client\" > requirements.txt\n",
    "# !pip3 install -r re*"
   ]
  },
  {
   "cell_type": "code",
   "execution_count": 2,
   "metadata": {},
   "outputs": [
    {
     "name": "stdout",
     "output_type": "stream",
     "text": [
      "https://api-t1.fyers.in/api/v3/generate-authcode?client_id=M6EQ9SEMLM-100&redirect_uri=http%3A%2F%2F127.0.0.1%3A8081&response_type=code&state=state\n",
      "eyJ0eXAiOiJKV1QiLCJhbGciOiJIUzI1NiJ9.eyJpc3MiOiJhcGkuZnllcnMuaW4iLCJpYXQiOjE3MjY1NDY0NzMsImV4cCI6MTcyNjYxOTQzMywibmJmIjoxNzI2NTQ2NDczLCJhdWQiOlsieDowIiwieDoxIiwiZDoxIiwiZDoyIiwieDowIl0sInN1YiI6ImFjY2Vzc190b2tlbiIsImF0X2hhc2giOiJnQUFBQUFCbTZRSXBFT00yTnpUdzdRTDBmOE9hWFJMQ2FWNmFXYmNZM0s4WkxhdktnU29NOXlpSzhTejVuTGJLNmZIZURxTVNYMnRtUU82bDRoLWhKN0JQTlhNM0hhN01QSjdfdUdCS2w2RTFCZWN4Q0U1dWpJOD0iLCJkaXNwbGF5X25hbWUiOiJQQVJUSCBST1lBTCIsIm9tcyI6IksxIiwiaHNtX2tleSI6IjExNzQ1ODE3MTU2MGFjNDg0MmZmOWE1NGUxNjMyNjEzMzk3Zjc3NWJiYmI3ZmUxMjljYTk1ZjRhIiwiZnlfaWQiOiJYUDEyMzI1IiwiYXBwVHlwZSI6MTAwLCJwb2FfZmxhZyI6Ik4ifQ.78NngSJwFniPpRH1sHyU_PF9Ysew3ln23osLYjJDccs\n"
     ]
    }
   ],
   "source": [
    "\n",
    "\n",
    "#gstatparth@gmail.com\n",
    "#xp12325\n",
    "#https://myapi.fyers.in/dashboard\n",
    "redircet_url = 'http://127.0.0.1:8081'\n",
    "client_id=
    "secret_key=",
    "FY_ID=",
    "TOTP_KEY=",
    "PIN=\"8894\"\n",
    "grant_type=\"authorization_code\"\n",
    "response_type=\"code\"\n",
    "\n",
    "\n",
    "\n",
    "\n",
    "import os\n",
    "import requests, time, base64, struct, hmac\n",
    "from fyers_apiv3 import fyersModel\n",
    "from urllib.parse import urlparse, parse_qs #https://www.youtube.com/watch?v=UHX0jwpw0_E\n",
    "pin = '8894'\n",
    "class FyesApp:\n",
    "    def __init__(self) -> None:\n",
    "        self.__username= 'XP12325' \n",
    "        self.__totp_key='Q2HC7F57FHMHPRT2VRLPRWA4ORWPK34E'\n",
    "        self.__pin='8894'\n",
    "        self.__client_id=\"M6EQ9SEMLM-100\"\n",
    "        self.__secret_key=\"22NRKYLP40\"\n",
    "        self.__redirect_uri='http://127.0.0.1:8081'\n",
    "        self.__access_token=None\n",
    "\n",
    "    def enable_app(self):\n",
    "        appSession= fyersModel.SessionModel(\n",
    "            client_id= self.__client_id,\n",
    "            redirect_uri= self.__redirect_uri,\n",
    "            response_type= 'code',\n",
    "            state= 'state',\n",
    "            secret_key=self.__secret_key,\n",
    "            grant_type='authorization_code'\n",
    "            \n",
    "        )\n",
    "        return appSession.generate_authcode()\n",
    "\n",
    "    #private function for authenticator app function for authentacation using totp\n",
    "    def __totp(self, key, time_step=30, digits=6, digest=\"sha1\"):\n",
    "        key = base64.b32decode(key.upper() + \"=\" * ((8 - len(key)) % 8))\n",
    "        counter = struct.pack(\">Q\", int(time.time() / time_step))\n",
    "        mac = hmac.new(key, counter, digest).digest()\n",
    "        offset = mac[-1] & 0x0F\n",
    "        binary = struct.unpack(\">L\", mac[offset : offset + 4])[0] & 0x7FFFFFFF\n",
    "        return str(binary)[-digits:].zfill(digits)\n",
    "\n",
    "    def get_token(self, refresh=False):\n",
    "        if self.__access_token == None and refresh !=False:\n",
    "            return #?\n",
    "\n",
    "        headers = {\n",
    "            \"Accept\": \"application/json\",\n",
    "            \"Accept-Language\": \"en-US,en;q=0.9\",\n",
    "            \"User-Agent\": \"Mozilla/5.0 (Windows NT 10.0; Win64; x64) AppleWebKit/537.36 (KHTML, like Gecko) Chrome/112.0.0.0 Safari/537.36\",\n",
    "        }\n",
    "\n",
    "        s = requests.Session()\n",
    "        s.headers.update(headers)\n",
    "\n",
    "        data1 = f'{{\"fy_id\":\"{base64.b64encode(f\"{self.__username}\".encode()).decode()}\",\"app_id\":\"2\"}}'\n",
    "        r1 = s.post(\"https://api-t2.fyers.in/vagator/v2/send_login_otp_v2\", data=data1)\n",
    "\n",
    "        request_key = r1.json()[\"request_key\"]\n",
    "        data2 = f'{{\"request_key\":\"{request_key}\",\"otp\":{self.__totp(self.__totp_key)}}}'\n",
    "        r2 = s.post(\"https://api-t2.fyers.in/vagator/v2/verify_otp\", data=data2)\n",
    "        assert r2.status_code == 200, f\"Error in r2:\\n {r2.text}\"\n",
    "\n",
    "        request_key = r2.json()[\"request_key\"]\n",
    "        data3 = f'{{\"request_key\":\"{request_key}\",\"identity_type\":\"pin\",\"identifier\":\"{base64.b64encode(f\"{pin}\".encode()).decode()}\"}}'\n",
    "        r3 = s.post(\"https://api-t2.fyers.in/vagator/v2/verify_pin_v2\", data=data3)\n",
    "        assert r3.status_code == 200, f\"Error in r3:\\n {r3.json()}\"\n",
    "\n",
    "        headers = {\"authorization\": f\"Bearer {r3.json()['data']['access_token']}\", \"content-type\": \"application/json; charset=UTF-8\"}\n",
    "        data4 = f'{{\"fyers_id\":\"{self.__username}\",\"app_id\":\"{self.__client_id[:-4]}\",\"redirect_uri\":\"{self.__redirect_uri}\",\"appType\":\"100\",\"code_challenge\":\"\",\"state\":\"abcdefg\",\"scope\":\"\",\"nonce\":\"\",\"response_type\":\"code\",\"create_cookie\":true}}'\n",
    "        r4 = s.post(\"https://api.fyers.in/api/v2/token\", headers=headers, data=data4)\n",
    "        assert r4.status_code == 308, f\"Error in r4:\\n {r4.json()}\"\n",
    "\n",
    "        parsed = urlparse(r4.json()[\"Url\"])\n",
    "        auth_code = parse_qs(parsed.query)[\"auth_code\"][0]\n",
    "\n",
    "        session = fyersModel.SessionModel(\n",
    "            client_id=self.__client_id, \n",
    "            secret_key=self.__secret_key, \n",
    "            redirect_uri=self.__redirect_uri, \n",
    "            response_type=\"code\", \n",
    "            grant_type=\"authorization_code\"\n",
    "            )\n",
    "\n",
    "        session.set_token(auth_code)\n",
    "        response = session.generate_token()\n",
    "        self.__access_token =  response[\"access_token\"]\n",
    "        return self.__access_token\n",
    "\n",
    "app = FyesApp()\n",
    "print(app.enable_app())\n",
    "# app.get_token()\n",
    "# print(app.__access_token())\n",
    "\n",
    "print(app.get_token())\n",
    "\n"
   ]
  },
  {
   "cell_type": "code",
   "execution_count": 3,
   "metadata": {},
   "outputs": [],
   "source": [
    "at = \"eyJ0eXAiOiJKV1QiLCJhbGciOiJIUzI1NiJ9.eyJpc3MiOiJhcGkuZnllcnMuaW4iLCJpYXQiOjE3MjY1NDY0NzMsImV4cCI6MTcyNjYxOTQzMywibmJmIjoxNzI2NTQ2NDczLCJhdWQiOlsieDowIiwieDoxIiwiZDoxIiwiZDoyIiwieDowIl0sInN1YiI6ImFjY2Vzc190b2tlbiIsImF0X2hhc2giOiJnQUFBQUFCbTZRSXBFT00yTnpUdzdRTDBmOE9hWFJMQ2FWNmFXYmNZM0s4WkxhdktnU29NOXlpSzhTejVuTGJLNmZIZURxTVNYMnRtUU82bDRoLWhKN0JQTlhNM0hhN01QSjdfdUdCS2w2RTFCZWN4Q0U1dWpJOD0iLCJkaXNwbGF5X25hbWUiOiJQQVJUSCBST1lBTCIsIm9tcyI6IksxIiwiaHNtX2tleSI6IjExNzQ1ODE3MTU2MGFjNDg0MmZmOWE1NGUxNjMyNjEzMzk3Zjc3NWJiYmI3ZmUxMjljYTk1ZjRhIiwiZnlfaWQiOiJYUDEyMzI1IiwiYXBwVHlwZSI6MTAwLCJwb2FfZmxhZyI6Ik4ifQ.78NngSJwFniPpRH1sHyU_PF9Ysew3ln23osLYjJDccs\""
   ]
  },
  {
   "cell_type": "code",
   "execution_count": 4,
   "metadata": {},
   "outputs": [
    {
     "name": "stdout",
     "output_type": "stream",
     "text": [
      "{'s': 'ok', 'code': 200, 'message': '', 'data': {'fy_id': 'XP12325', 'name': 'PARTH ROYAL', 'image': None, 'display_name': None, 'pin_change_date': '05-12-2021 17:10:44', 'email_id': 'gstatparth@gmail.com', 'pwd_change_date': '27-01-2022 11:39:41', 'PAN': '---------', 'mobile_number': '9418037413', 'totp': True, 'pwd_to_expire': -813}}\n"
     ]
    }
   ],
   "source": [
    "\n",
    "from fyers_apiv3 import fyersModel\n",
    "\n",
    "client_id = \"M6EQ9SEMLM-100\"\n",
    "\n",
    "# Initialize the FyersModel instance with your client_id, access_token, and enable async mode\n",
    "fyers = fyersModel.FyersModel(client_id=client_id, is_async=False, token=at, log_path=\"./\")\n",
    "\n",
    "# Make a request to get the user profile information\n",
    "response = fyers.get_profile()\n",
    "\n",
    "# Print the response received from the Fyers API\n",
    "print(response)\n",
    "\n",
    "\n"
   ]
  },
  {
   "cell_type": "code",
   "execution_count": 8,
   "metadata": {},
   "outputs": [
    {
     "name": "stdout",
     "output_type": "stream",
     "text": [
      "Data for NSE:NIFTY50-INDEX saved at fyersDf/niftyIndex/2024-09-16-2024-09-17/niftySpot.csv\n",
      "Data for NSE:RELIANCE-EQ saved at fyersDf/rhelSpot/2024-09-16-2024-09-17/rhel.csv\n"
     ]
    }
   ],
   "source": [
    "\n",
    "\n",
    "\n",
    "import os\n",
    "import pandas as pd\n",
    "from datetime import datetime, timedelta\n",
    "from fyers_apiv3 import fyersModel\n",
    "\n",
    "# Initialize the FyersModel instance with your client_id, access_token, and enable async mode\n",
    "\n",
    "def download_and_save_data(symbol: str):\n",
    "    # Define the date range (last 6 days, can be modified)\n",
    "    range_from = (datetime.now() - timedelta(days=1)).date()\n",
    "    range_to = datetime.now().date()\n",
    "    \n",
    "    # Prepare the data request to Fyers API\n",
    "    data = {\n",
    "        \"symbol\": symbol,\n",
    "        \"resolution\": \"5S\",  # \"D\",\n",
    "        \"date_format\": \"1\",\n",
    "        \"range_from\": str(range_from),\n",
    "        \"range_to\": str(range_to),\n",
    "        \"cont_flag\": \"1\"\n",
    "    }\n",
    "\n",
    "    # Assuming `res` is the response from fyers.history\n",
    "    res = fyers.history(data=data)  # Fetch the data (replace with actual API call)\n",
    "    \n",
    "    # Convert the response to a DataFrame\n",
    "    df = pd.DataFrame(res['candles'], columns=['time', 'open', 'high', 'low', 'close', 'volume'])\n",
    "    \n",
    "    # Convert Unix timestamp (seconds) to datetime in UTC, then to IST\n",
    "    df['time'] = pd.to_datetime(df['time'], unit='s', utc=True)\n",
    "    df['time'] = df['time'].dt.tz_convert('Asia/Kolkata')\n",
    "    \n",
    "    # Sort by time\n",
    "    df = df.sort_values(by='time')\n",
    "    \n",
    "    # Identify the type of asset and prepare folder structure and file name\n",
    "    if \"NIFTY50\" in symbol:\n",
    "        # NIFTY index data\n",
    "        folder = f\"fyersDf/niftyIndex/{range_from}-{range_to}/\"\n",
    "        filename = f\"niftySpot.csv\"\n",
    "    \n",
    "    elif \"RELIANCE\" in symbol:\n",
    "        # Reliance spot data\n",
    "        folder = f\"fyersDf/rhelSpot/{range_from}-{range_to}/\"\n",
    "        filename = f\"rhel.csv\"\n",
    "    \n",
    "    else:\n",
    "        # Option data (CE/PE)\n",
    "        option_type = \"CE\" if \"CE\" in symbol else \"PE\"\n",
    "        # Extract strike price from symbol (e.g., NSE:NIFTY2491225400CE => 25400)\n",
    "        strike_price = symbol.split(\"NIFTY\")[-1][5:12]\n",
    "        folder = f\"fyersDf/{option_type}/{range_from}-{range_to}/\"\n",
    "        filename = f\"nifty{option_type}_{strike_price}.csv\"\n",
    "    \n",
    "    # Create the folder if it doesn't exist\n",
    "    if not os.path.exists(folder):\n",
    "        os.makedirs(folder)\n",
    "    \n",
    "    # Save the DataFrame as CSV in the respective folder\n",
    "    df.to_csv(os.path.join(folder, filename), index=False)\n",
    "\n",
    "    print(f\"Data for {symbol} saved at {folder}{filename}\")\n",
    "\n",
    "\n",
    "# Example usage for all symbols\n",
    "symbols = [\n",
    "    \"NSE:NIFTY50-INDEX\",\n",
    "    \"NSE:RELIANCE-EQ\"]\n",
    "\n",
    "# Loop through all symbols and download data\n",
    "for symbol in symbols:\n",
    "    download_and_save_data(symbol)\n"
   ]
  },
  {
   "cell_type": "code",
   "execution_count": 7,
   "metadata": {},
   "outputs": [
    {
     "data": {
      "text/plain": [
       "datetime.date(2024, 9, 16)"
      ]
     },
     "execution_count": 7,
     "metadata": {},
     "output_type": "execute_result"
    }
   ],
   "source": [
    "(datetime.now() - timedelta(days=1)).date()"
   ]
  },
  {
   "cell_type": "code",
   "execution_count": null,
   "metadata": {},
   "outputs": [],
   "source": []
  }
 ],
 "metadata": {
  "kernelspec": {
   "display_name": "api",
   "language": "python",
   "name": "python3"
  },
  "language_info": {
   "codemirror_mode": {
    "name": "ipython",
    "version": 3
   },
   "file_extension": ".py",
   "mimetype": "text/x-python",
   "name": "python",
   "nbconvert_exporter": "python",
   "pygments_lexer": "ipython3",
   "version": "3.10.12"
  }
 },
 "nbformat": 4,
 "nbformat_minor": 2
}
