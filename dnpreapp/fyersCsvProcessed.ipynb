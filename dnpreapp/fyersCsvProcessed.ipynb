{
 "cells": [
  {
   "cell_type": "code",
   "execution_count": 1,
   "metadata": {},
   "outputs": [],
   "source": [
    "import pandas as pd\n",
    "from datetime import datetime\n",
    "\n",
    "# Function to convert time to UNIX timestamp\n",
    "def convert_to_unix(time_str):\n",
    "    # Parse the datetime string to a datetime object, handling the timezone\n",
    "    dt = datetime.fromisoformat(time_str)  # This already handles the +05:30 IST offset\n",
    "    # Convert datetime object to UNIX timestamp\n",
    "    return int(dt.timestamp())\n",
    "\n",
    "# Assuming df.time contains ISO 8601 formatted strings (like '2024-09-16T09:15:00+05:30')\n",
    "df = pd.read_csv(\"niftySpot.csv\")\n",
    "df.time = df.time.apply(convert_to_unix)\n",
    "\n",
    "# Save the updated DataFrame to a new CSV file\n",
    "df.to_csv('data_5S.csv', index=False)\n"
   ]
  },
  {
   "cell_type": "code",
   "execution_count": 17,
   "metadata": {},
   "outputs": [],
   "source": [
    "# import pandas as pd\n",
    "# from datetime import datetime\n",
    "\n",
    "# # Function to convert time to UNIX timestamp\n",
    "# def convert_to_unix(time_str):\n",
    "#     # Parse the datetime string to a datetime object, handling the timezone\n",
    "#     dt = datetime.fromisoformat(time_str)  # This already handles the +05:30 IST offset\n",
    "#     # Convert datetime object to UNIX timestamp\n",
    "#     return int(dt.timestamp())\n",
    "\n",
    "# # Assuming df.time contains ISO 8601 formatted strings (like '2024-09-16T09:15:00+05:30')\n",
    "# df = pd.read_csv(\"niftySpot.csv\")\n",
    "# df.time = df.time.apply(convert_to_unix)\n",
    "\n",
    "# # Save the updated DataFrame to a new CSV file\n",
    "# df.to_csv('data_5S.csv', index=False)\n"
   ]
  },
  {
   "cell_type": "code",
   "execution_count": 18,
   "metadata": {},
   "outputs": [],
   "source": [
    "# !date   -u -d @1726458300"
   ]
  },
  {
   "cell_type": "code",
   "execution_count": 34,
   "metadata": {},
   "outputs": [],
   "source": [
    "# import pandas as pd\n",
    "# from datetime import datetime, timezone, timedelta\n",
    "\n",
    "# # Function to convert time to UNIX timestamp treating it as IST\n",
    "# def convert_to_unix_ist(time_str):\n",
    "#     # Parse the datetime string to a naive datetime object\n",
    "#     dt = datetime.fromisoformat(time_str)\n",
    "#     # Manually convert IST time (+05:30) to UTC\n",
    "#     dt_utc = dt - timedelta(hours=6, minutes=30)\n",
    "#     # Convert the UTC datetime object to UNIX timestamp\n",
    "#     return int(dt_utc.timestamp())\n",
    "\n",
    "# # Assuming df.time contains ISO 8601 formatted strings (like '2024-09-16T09:15:00+05:30')\n",
    "# df = pd.read_csv(\"niftySpot.csv\")\n",
    "# df.time = df.time.apply(convert_to_unix_ist)\n",
    "\n",
    "# # Save the updated DataFrame to a new CSV file\n",
    "# df.to_csv('data_5S.csv', index=False)\n"
   ]
  },
  {
   "cell_type": "code",
   "execution_count": 35,
   "metadata": {},
   "outputs": [
    {
     "name": "stdout",
     "output_type": "stream",
     "text": [
      "Sunday 15 September 2024 09:15:00 PM UTC\n"
     ]
    }
   ],
   "source": [
    "# !date  -u -d @1726434900"
   ]
  },
  {
   "cell_type": "markdown",
   "metadata": {},
   "source": [
    "The datetime.fromisoformat(time_str) parses the input as a naive datetime (with timezone info).\n",
    "Subtracting timedelta(hours=5, minutes=30) manually shifts the time to UTC.\n",
    ".timestamp() then converts this UTC time to a UNIX timestamp, giving you the correct time in UTC format, but treating the original time as IST.\n",
    "This should give you the expected output where the time is correctly interpreted as IST but outputted as a UNIX timestamp in UTC.\n",
    "\n",
    "\n",
    "\n",
    "\n",
    "\n",
    "\n",
    "To ensure you convert the time string to UNIX time in IST (Indian Standard Time), the main thing is that the UNIX timestamp will be the same regardless of the timezone, but it needs to be adjusted so that the input is interpreted in IST.\n",
    "\n",
    "Since UNIX time always counts seconds since 1970-01-01 00:00:00 UTC, the timestamp itself doesn't inherently carry timezone information. However, it represents the number of seconds since that moment in UTC.\n",
    "\n",
    "If your goal is to convert the timestamp into UNIX time while treating the input time as IST, this is the proper approach:\n",
    "\n",
    "Parse the time as IST.\n",
    "Convert it to a UNIX timestamp directly, since Python’s datetime.timestamp() always gives the result in UTC."
   ]
  },
  {
   "cell_type": "code",
   "execution_count": null,
   "metadata": {},
   "outputs": [],
   "source": []
  }
 ],
 "metadata": {
  "kernelspec": {
   "display_name": "api",
   "language": "python",
   "name": "python3"
  },
  "language_info": {
   "codemirror_mode": {
    "name": "ipython",
    "version": 3
   },
   "file_extension": ".py",
   "mimetype": "text/x-python",
   "name": "python",
   "nbconvert_exporter": "python",
   "pygments_lexer": "ipython3",
   "version": "3.10.12"
  }
 },
 "nbformat": 4,
 "nbformat_minor": 2
}
